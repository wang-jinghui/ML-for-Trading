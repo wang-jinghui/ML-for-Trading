{
 "cells": [
  {
   "cell_type": "code",
   "execution_count": null,
   "metadata": {
    "collapsed": true
   },
   "outputs": [],
   "source": [
    "Porffolio\n",
    "1.投资组合的日收益率\n",
    "2.投资组合的风险评价指标:sharpe ratio"
   ]
  },
  {
   "cell_type": "code",
   "execution_count": null,
   "metadata": {
    "collapsed": true
   },
   "outputs": [],
   "source": [
    "(1)假设投入资金10000\n",
    "(2)买入组合的分配比例 allocat=(0.3, 0.2, 0.2, 0.3)\n",
    "(3)时间从17-01/03~06/05"
   ]
  },
  {
   "cell_type": "code",
   "execution_count": 21,
   "metadata": {
    "collapsed": true
   },
   "outputs": [],
   "source": [
    "import pandas as pd\n",
    "import numpy as np\n",
    "import matplotlib.pyplot as plt"
   ]
  },
  {
   "cell_type": "code",
   "execution_count": 3,
   "metadata": {},
   "outputs": [
    {
     "data": {
      "text/html": [
       "<div>\n",
       "<style>\n",
       "    .dataframe thead tr:only-child th {\n",
       "        text-align: right;\n",
       "    }\n",
       "\n",
       "    .dataframe thead th {\n",
       "        text-align: left;\n",
       "    }\n",
       "\n",
       "    .dataframe tbody tr th {\n",
       "        vertical-align: top;\n",
       "    }\n",
       "</style>\n",
       "<table border=\"1\" class=\"dataframe\">\n",
       "  <thead>\n",
       "    <tr style=\"text-align: right;\">\n",
       "      <th></th>\n",
       "      <th>SZ</th>\n",
       "      <th>JFJS</th>\n",
       "      <th>CYDL</th>\n",
       "      <th>MD</th>\n",
       "    </tr>\n",
       "    <tr>\n",
       "      <th>date</th>\n",
       "      <th></th>\n",
       "      <th></th>\n",
       "      <th></th>\n",
       "      <th></th>\n",
       "    </tr>\n",
       "  </thead>\n",
       "  <tbody>\n",
       "    <tr>\n",
       "      <th>2017-01-03</th>\n",
       "      <td>2307.89</td>\n",
       "      <td>9.121</td>\n",
       "      <td>6.11</td>\n",
       "      <td>29.12</td>\n",
       "    </tr>\n",
       "    <tr>\n",
       "      <th>2017-01-04</th>\n",
       "      <td>2322.21</td>\n",
       "      <td>9.230</td>\n",
       "      <td>6.12</td>\n",
       "      <td>29.83</td>\n",
       "    </tr>\n",
       "    <tr>\n",
       "      <th>2017-01-05</th>\n",
       "      <td>2322.68</td>\n",
       "      <td>9.110</td>\n",
       "      <td>6.12</td>\n",
       "      <td>29.69</td>\n",
       "    </tr>\n",
       "  </tbody>\n",
       "</table>\n",
       "</div>"
      ],
      "text/plain": [
       "                 SZ   JFJS  CYDL     MD\n",
       "date                                   \n",
       "2017-01-03  2307.89  9.121  6.11  29.12\n",
       "2017-01-04  2322.21  9.230  6.12  29.83\n",
       "2017-01-05  2322.68  9.110  6.12  29.69"
      ]
     },
     "execution_count": 3,
     "metadata": {},
     "output_type": "execute_result"
    }
   ],
   "source": [
    "# 投资组合股票价格\n",
    "df_close = pd.read_csv('../Data/data/close_4.csv',index_col='date')\n",
    "df_close[:3]"
   ]
  },
  {
   "cell_type": "code",
   "execution_count": 4,
   "metadata": {},
   "outputs": [
    {
     "data": {
      "text/html": [
       "<div>\n",
       "<style>\n",
       "    .dataframe thead tr:only-child th {\n",
       "        text-align: right;\n",
       "    }\n",
       "\n",
       "    .dataframe thead th {\n",
       "        text-align: left;\n",
       "    }\n",
       "\n",
       "    .dataframe tbody tr th {\n",
       "        vertical-align: top;\n",
       "    }\n",
       "</style>\n",
       "<table border=\"1\" class=\"dataframe\">\n",
       "  <thead>\n",
       "    <tr style=\"text-align: right;\">\n",
       "      <th></th>\n",
       "      <th>SZ</th>\n",
       "      <th>JFJS</th>\n",
       "      <th>CYDL</th>\n",
       "      <th>MD</th>\n",
       "    </tr>\n",
       "    <tr>\n",
       "      <th>date</th>\n",
       "      <th></th>\n",
       "      <th></th>\n",
       "      <th></th>\n",
       "      <th></th>\n",
       "    </tr>\n",
       "  </thead>\n",
       "  <tbody>\n",
       "    <tr>\n",
       "      <th>2017-01-03</th>\n",
       "      <td>1.000000</td>\n",
       "      <td>1.000000</td>\n",
       "      <td>1.000000</td>\n",
       "      <td>1.000000</td>\n",
       "    </tr>\n",
       "    <tr>\n",
       "      <th>2017-01-04</th>\n",
       "      <td>1.006205</td>\n",
       "      <td>1.011950</td>\n",
       "      <td>1.001637</td>\n",
       "      <td>1.024382</td>\n",
       "    </tr>\n",
       "    <tr>\n",
       "      <th>2017-01-05</th>\n",
       "      <td>1.006408</td>\n",
       "      <td>0.998794</td>\n",
       "      <td>1.001637</td>\n",
       "      <td>1.019574</td>\n",
       "    </tr>\n",
       "  </tbody>\n",
       "</table>\n",
       "</div>"
      ],
      "text/plain": [
       "                  SZ      JFJS      CYDL        MD\n",
       "date                                              \n",
       "2017-01-03  1.000000  1.000000  1.000000  1.000000\n",
       "2017-01-04  1.006205  1.011950  1.001637  1.024382\n",
       "2017-01-05  1.006408  0.998794  1.001637  1.019574"
      ]
     },
     "execution_count": 4,
     "metadata": {},
     "output_type": "execute_result"
    }
   ],
   "source": [
    "# norm price ,除以买入当天的价格\n",
    "norm_df = df_close / df_close.iloc[0,:]\n",
    "norm_df[:3]"
   ]
  },
  {
   "cell_type": "code",
   "execution_count": 7,
   "metadata": {},
   "outputs": [
    {
     "data": {
      "text/html": [
       "<div>\n",
       "<style>\n",
       "    .dataframe thead tr:only-child th {\n",
       "        text-align: right;\n",
       "    }\n",
       "\n",
       "    .dataframe thead th {\n",
       "        text-align: left;\n",
       "    }\n",
       "\n",
       "    .dataframe tbody tr th {\n",
       "        vertical-align: top;\n",
       "    }\n",
       "</style>\n",
       "<table border=\"1\" class=\"dataframe\">\n",
       "  <thead>\n",
       "    <tr style=\"text-align: right;\">\n",
       "      <th></th>\n",
       "      <th>SZ</th>\n",
       "      <th>JFJS</th>\n",
       "      <th>CYDL</th>\n",
       "      <th>MD</th>\n",
       "    </tr>\n",
       "    <tr>\n",
       "      <th>date</th>\n",
       "      <th></th>\n",
       "      <th></th>\n",
       "      <th></th>\n",
       "      <th></th>\n",
       "    </tr>\n",
       "  </thead>\n",
       "  <tbody>\n",
       "    <tr>\n",
       "      <th>2017-01-03</th>\n",
       "      <td>0.300000</td>\n",
       "      <td>0.200000</td>\n",
       "      <td>0.200000</td>\n",
       "      <td>0.300000</td>\n",
       "    </tr>\n",
       "    <tr>\n",
       "      <th>2017-01-04</th>\n",
       "      <td>0.301861</td>\n",
       "      <td>0.202390</td>\n",
       "      <td>0.200327</td>\n",
       "      <td>0.307315</td>\n",
       "    </tr>\n",
       "    <tr>\n",
       "      <th>2017-01-05</th>\n",
       "      <td>0.301923</td>\n",
       "      <td>0.199759</td>\n",
       "      <td>0.200327</td>\n",
       "      <td>0.305872</td>\n",
       "    </tr>\n",
       "  </tbody>\n",
       "</table>\n",
       "</div>"
      ],
      "text/plain": [
       "                  SZ      JFJS      CYDL        MD\n",
       "date                                              \n",
       "2017-01-03  0.300000  0.200000  0.200000  0.300000\n",
       "2017-01-04  0.301861  0.202390  0.200327  0.307315\n",
       "2017-01-05  0.301923  0.199759  0.200327  0.305872"
      ]
     },
     "execution_count": 7,
     "metadata": {},
     "output_type": "execute_result"
    }
   ],
   "source": [
    "# norm price * allocat(资金投入比)\n",
    "allocat = [0.3, 0.2, 0.2, 0.3]\n",
    "allocated = norm_df * allocat\n",
    "allocated[:3]"
   ]
  },
  {
   "cell_type": "code",
   "execution_count": 20,
   "metadata": {},
   "outputs": [
    {
     "data": {
      "image/png": "[encoded data removed]",
      "text/plain": [
       "<matplotlib.figure.Figure at 0x7f017432f310>"
      ]
     },
     "metadata": {},
     "output_type": "display_data"
    }
   ],
   "source": [
    "# allocated * 初始投入金额\n",
    "returns = allocated * 10000\n",
    "# 计算每天组合投资的价值\n",
    "Values = returns.sum(axis=1)\n",
    "\n",
    "# 投资组合的日回报,(今天的收益/昨天的收益)-1\n",
    "# 买入当天不计,为0\n",
    "daily_returns = Values.copy()\n",
    "daily_returns[1:] = (Values[1:] / Values.values[:-1])-1.0\n",
    "daily_returns.iloc[0] = 0\n",
    "\n",
    "# 每天的累计回报(每天的组合收益/第一天的组合收益)-1\n",
    "cum_returns = (Values / Values.iloc[0])-1.0\n",
    "\n",
    "daily_returns.plot(figsize=(10,5),label='Daily returns')\n",
    "cum_returns.plot(label='Cumulative returns')\n",
    "plt.grid()\n",
    "plt.legend()\n",
    "plt.show()\n"
   ]
  },
  {
   "cell_type": "code",
   "execution_count": 24,
   "metadata": {},
   "outputs": [
    {
     "name": "stdout",
     "output_type": "stream",
     "text": [
      "0.572513712026\n"
     ]
    }
   ],
   "source": [
    "# 夏普比率（Sharpe Ratio），又被称为夏普指数 --- 基金绩效评价标准化指标。\n",
    "# 用净值增长率的平均值 减 无风险利率 再除以净值增长率的标准差就可以得到基金的夏普比率。\n",
    "# 它反映了单位风险基金净值增长率超过无风险收益率的程度。\n",
    "# 如果夏普比率为正值，说明在衡量期内基金的平均净值增长率超过了无风险利率，夏普比率越大，说明基金的单位风险所获得的风险回报越高。\n",
    "# 夏普比率为负时，则相反,按大小排序没有意义。\n",
    "# 不同的数据采样频率,夏普比率会乘以不同系数k,日采样 k = 根号(252),周采样为 52\n",
    "\n",
    "# 净值增长率平均值,即 日收益率均值\n",
    "m_dr = daily_returns.mean()\n",
    "# 无风险利率,类似银行利息利率或国债利率的日均值,也可以用0代替\n",
    "risk_free_rate = 0.0\n",
    "# 净值增长率标准差\n",
    "std_dr = daily_returns.std()\n",
    "# 数据为日采样数据,\n",
    "k = np.sqrt(252)\n",
    "sharpe_ratio = k * (m_dr - risk_free_rate) / std_dr\n",
    "print sharpe_ratio"
   ]
  }
 ],
 "metadata": {
  "kernelspec": {
   "display_name": "Python 2",
   "language": "python",
   "name": "python2"
  },
  "language_info": {
   "codemirror_mode": {
    "name": "ipython",
    "version": 2
   },
   "file_extension": ".py",
   "mimetype": "text/x-python",
   "name": "python",
   "nbconvert_exporter": "python",
   "pygments_lexer": "ipython2",
   "version": "2.7.13"
  }
 },
 "nbformat": 4,
 "nbformat_minor": 2
}
